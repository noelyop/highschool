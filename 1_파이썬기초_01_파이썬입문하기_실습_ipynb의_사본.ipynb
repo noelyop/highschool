{
  "cells": [
    {
      "cell_type": "markdown",
      "metadata": {
        "id": "view-in-github",
        "colab_type": "text"
      },
      "source": [
        "<a href=\"https://colab.research.google.com/github/noelyop/highschool/blob/main/1_%ED%8C%8C%EC%9D%B4%EC%8D%AC%EA%B8%B0%EC%B4%88_01_%ED%8C%8C%EC%9D%B4%EC%8D%AC%EC%9E%85%EB%AC%B8%ED%95%98%EA%B8%B0_%EC%8B%A4%EC%8A%B5_ipynb%EC%9D%98_%EC%82%AC%EB%B3%B8.ipynb\" target=\"_parent\"><img src=\"https://colab.research.google.com/assets/colab-badge.svg\" alt=\"Open In Colab\"/></a>"
      ]
    },
    {
      "cell_type": "markdown",
      "id": "5b39199b",
      "metadata": {
        "id": "5b39199b"
      },
      "source": [
        "# 파이썬 기초 다지기"
      ]
    },
    {
      "cell_type": "markdown",
      "id": "3f3da3bd",
      "metadata": {
        "id": "3f3da3bd"
      },
      "source": [
        "## 1 - 파이썬 입문하기\n",
        "파이썬 소개 및 파이썬 학습환경 만들기"
      ]
    },
    {
      "cell_type": "markdown",
      "id": "0c52a67e",
      "metadata": {
        "id": "0c52a67e"
      },
      "source": [
        "----------------------------------"
      ]
    },
    {
      "cell_type": "markdown",
      "id": "b11c5643",
      "metadata": {
        "id": "b11c5643"
      },
      "source": [
        "## 1-1.파이썬 소개하기"
      ]
    },
    {
      "cell_type": "markdown",
      "id": "f865521f",
      "metadata": {
        "id": "f865521f"
      },
      "source": [
        "### #파이썬 언어의 분류\n",
        "#### 1. 실행 주체에 따른 분류\n",
        "파이썬은 **고급 언어**이다.\n",
        "\n",
        "#### 2. 실행에 따른 분류\n",
        "파이썬은 **인터프리터 언어**이다."
      ]
    },
    {
      "cell_type": "markdown",
      "id": "0060337e",
      "metadata": {
        "id": "0060337e"
      },
      "source": [
        "---------------------------"
      ]
    },
    {
      "cell_type": "markdown",
      "id": "f1d6a768",
      "metadata": {
        "id": "f1d6a768"
      },
      "source": [
        "## 1-2.파이썬 설치하기"
      ]
    },
    {
      "cell_type": "markdown",
      "id": "b7d367b2",
      "metadata": {
        "id": "b7d367b2"
      },
      "source": [
        "### #파이썬 설치 위치"
      ]
    },
    {
      "cell_type": "code",
      "execution_count": 1,
      "id": "fe832924",
      "metadata": {
        "id": "fe832924",
        "colab": {
          "base_uri": "https://localhost:8080/"
        },
        "outputId": "ee17b4a9-a70a-4684-86e4-40a728d05f7f"
      },
      "outputs": [
        {
          "output_type": "stream",
          "name": "stdout",
          "text": [
            "/usr/bin/python3\n",
            "3.10.6 (main, May 29 2023, 11:10:38) [GCC 11.3.0]\n"
          ]
        }
      ],
      "source": [
        "import sys\n",
        "\n",
        "print(sys.executable) # 파이썬 실행파일 위치\n",
        "\n",
        "print(sys.version)    # 파이썬 버전 출력하기"
      ]
    },
    {
      "cell_type": "markdown",
      "id": "d4eed572",
      "metadata": {
        "id": "d4eed572"
      },
      "source": [
        "### #학습 코드 위치(현재 위치)"
      ]
    },
    {
      "cell_type": "code",
      "execution_count": 2,
      "id": "6abdcb34",
      "metadata": {
        "id": "6abdcb34",
        "colab": {
          "base_uri": "https://localhost:8080/"
        },
        "outputId": "579017a6-793b-4d84-c508-1cb77b33e19d"
      },
      "outputs": [
        {
          "output_type": "stream",
          "name": "stdout",
          "text": [
            "/content\n"
          ]
        }
      ],
      "source": [
        "import os\n",
        "\n",
        "print( os.getcwd() ) #현재 폴더 경로"
      ]
    },
    {
      "cell_type": "markdown",
      "id": "7dababe2",
      "metadata": {
        "id": "7dababe2"
      },
      "source": [
        "-------------------------"
      ]
    },
    {
      "cell_type": "markdown",
      "id": "48f63310",
      "metadata": {
        "id": "48f63310"
      },
      "source": [
        "## 1-3.코랩 사용하기"
      ]
    },
    {
      "cell_type": "markdown",
      "id": "deba4e7b",
      "metadata": {
        "id": "deba4e7b"
      },
      "source": [
        "### #코랩 사용방법"
      ]
    },
    {
      "cell_type": "markdown",
      "id": "b8255481",
      "metadata": {
        "id": "b8255481"
      },
      "source": [
        "#### 1.제목(Heading) 작성하는 방법"
      ]
    },
    {
      "cell_type": "markdown",
      "id": "26c7d401",
      "metadata": {
        "id": "26c7d401"
      },
      "source": [
        "# 제목 - 첫 번째 큰 글씨\n",
        "## 제목 - 두 번째 큰 글씨\n",
        "### 제목 - 세 번째 큰 글씨\n",
        "#### 제목 - 네 번째 큰 글씨\n",
        "##### 제목 - 다섯 번째 큰 글씨\n",
        "설명 작성하기"
      ]
    },
    {
      "cell_type": "markdown",
      "id": "98216abf",
      "metadata": {
        "id": "98216abf"
      },
      "source": [
        "#### 2. 코드 작성하고 실행하기"
      ]
    },
    {
      "cell_type": "code",
      "execution_count": null,
      "id": "f51bbe87",
      "metadata": {
        "id": "f51bbe87"
      },
      "outputs": [],
      "source": [
        "300 + 400"
      ]
    },
    {
      "cell_type": "code",
      "execution_count": null,
      "id": "4b147d79",
      "metadata": {
        "id": "4b147d79"
      },
      "outputs": [],
      "source": [
        "300 + 400   # 화면에 결과가 출력되지 않습니다.\n",
        "500 + 400   # 주피터 노트북의 맨 마지막 행은 print()함수가 없어도 출력이 된다."
      ]
    },
    {
      "cell_type": "markdown",
      "id": "f4e4e060",
      "metadata": {
        "id": "f4e4e060"
      },
      "source": [
        "-------------------------"
      ]
    },
    {
      "cell_type": "markdown",
      "id": "f1429775",
      "metadata": {
        "id": "f1429775"
      },
      "source": [
        "## 1-4.파이썬 맛보기"
      ]
    },
    {
      "cell_type": "markdown",
      "id": "5a3a6b07",
      "metadata": {
        "id": "5a3a6b07"
      },
      "source": [
        "### #화면에 출력하는 함수 : print( )"
      ]
    },
    {
      "cell_type": "code",
      "execution_count": 3,
      "id": "6cb8ede1",
      "metadata": {
        "id": "6cb8ede1",
        "colab": {
          "base_uri": "https://localhost:8080/"
        },
        "outputId": "8cfb23f4-7cc0-4008-d44e-afdf49f0db23"
      },
      "outputs": [
        {
          "output_type": "stream",
          "name": "stdout",
          "text": [
            "700\n",
            "900\n"
          ]
        }
      ],
      "source": [
        "print (300+400)\n",
        "print (500+400)"
      ]
    },
    {
      "cell_type": "markdown",
      "id": "ad173c5e",
      "metadata": {
        "id": "ad173c5e"
      },
      "source": [
        "### #숫자 계산하기"
      ]
    },
    {
      "cell_type": "code",
      "execution_count": null,
      "id": "2cf3ca23",
      "metadata": {
        "id": "2cf3ca23"
      },
      "outputs": [],
      "source": []
    },
    {
      "cell_type": "code",
      "execution_count": 6,
      "id": "fc292336",
      "metadata": {
        "id": "fc292336",
        "colab": {
          "base_uri": "https://localhost:8080/"
        },
        "outputId": "fd6648e3-e59c-4d5e-f6a0-02e35fe47f69"
      },
      "outputs": [
        {
          "output_type": "stream",
          "name": "stdout",
          "text": [
            "700\n",
            "900\n",
            "1600\n",
            "2750.0\n"
          ]
        }
      ],
      "source": [
        "# 변수를 이용한 계산\n",
        "a= 300+400   #300+400을 계산한 결과를 a라는 변수에 지정한다\n",
        "b= 500+400   #\n",
        "print(a)\n",
        "print(b)\n",
        "print(a+b)\n",
        "print(2*a+3*b/2)"
      ]
    },
    {
      "cell_type": "code",
      "execution_count": null,
      "id": "acfc0e9b",
      "metadata": {
        "id": "acfc0e9b"
      },
      "outputs": [],
      "source": [
        "# math 라이브러리를 이용한 수학\n",
        "import math\n",
        "\n",
        "print(    )   # 파이\n",
        "print(    )   # 최대공약수(greatest common divisor)\n",
        "print(    )   # 최소공배수(least common multiple)\n",
        "print(    )   # 팩토리얼 5x4x3x2x1"
      ]
    },
    {
      "cell_type": "markdown",
      "id": "a4c37be4",
      "metadata": {
        "id": "a4c37be4"
      },
      "source": [
        "### #문자열 출력하기\n",
        "문자열은 **작은따옴표('')** 또는 **큰따옴표(\"\")** 둘 중에 아무거나 사용 가능합니다."
      ]
    },
    {
      "cell_type": "code",
      "execution_count": null,
      "id": "2b581266",
      "metadata": {
        "id": "2b581266"
      },
      "outputs": [],
      "source": [
        "#자신의 학교/학년/반/이름 출력하기\n",
        "print(\"나는 OO중학교/O학년/O반/OOO 학생입니다.\")\n",
        "print('300+400')\n",
        "print(-----------------)\n",
        "\n",
        "a="
      ]
    },
    {
      "cell_type": "markdown",
      "id": "687fa042",
      "metadata": {
        "id": "687fa042"
      },
      "source": [
        "##### 문자열에 '*' 곱하기 기호를 사용하면 문자열을 반복한다"
      ]
    },
    {
      "cell_type": "code",
      "source": [
        "print(너무'반짝'*2 눈이 부셔 'no'*5)"
      ],
      "metadata": {
        "colab": {
          "base_uri": "https://localhost:8080/",
          "height": 138
        },
        "id": "Luvk4BjfnWcr",
        "outputId": "5b7493e5-fbf9-467b-de3a-db47e5dd7603"
      },
      "id": "Luvk4BjfnWcr",
      "execution_count": 14,
      "outputs": [
        {
          "output_type": "error",
          "ename": "SyntaxError",
          "evalue": "ignored",
          "traceback": [
            "\u001b[0;36m  File \u001b[0;32m\"<ipython-input-14-73d4bd9301ad>\"\u001b[0;36m, line \u001b[0;32m1\u001b[0m\n\u001b[0;31m    print(너무 '반짝'*2 눈이 부셔 'no'*5)\u001b[0m\n\u001b[0m             ^\u001b[0m\n\u001b[0;31mSyntaxError\u001b[0m\u001b[0;31m:\u001b[0m invalid syntax. Perhaps you forgot a comma?\n"
          ]
        }
      ]
    },
    {
      "cell_type": "code",
      "execution_count": 8,
      "id": "7c1df6c8",
      "metadata": {
        "scrolled": false,
        "id": "7c1df6c8",
        "colab": {
          "base_uri": "https://localhost:8080/"
        },
        "outputId": "709b4b76-f4a7-4948-d931-219a9f2f094a"
      },
      "outputs": [
        {
          "output_type": "stream",
          "name": "stdout",
          "text": [
            "점심점심점심점심점심\n",
            "_________________________________________\n",
            "점심시간입니다.\n",
            "점심 시간입니다\n"
          ]
        }
      ],
      "source": [
        "# 문자열 반복하기 * 기호 사\n",
        "\n",
        "print('점심'*5)\n",
        "print('_________________________________________')\n",
        "\n",
        "#문자열 붙이기: +','(쉼표) 기호 사용\n",
        "#'+'기\n",
        "print('점심'+ '시간입니다.')\n",
        "#',(쉼표)'기\n",
        "print('점심','시간입니다')\n"
      ]
    },
    {
      "cell_type": "markdown",
      "id": "11668415",
      "metadata": {
        "id": "11668415"
      },
      "source": [
        "### #주석표시\n",
        "**주석** : 코드에서 실행되지는 않지만 사람이 이해할 수 있도록 설명하는 문장\n",
        "- **#** 문장 앞에 이 기호를 사용\n",
        "- **작은따옴표(''' ''')** 또는 **큰따옴표(\"\"\" \"\"\")** 를 세개 사용하는 경우는 주석표시로 사용된다."
      ]
    },
    {
      "cell_type": "code",
      "execution_count": null,
      "id": "d0b4d454",
      "metadata": {
        "id": "d0b4d454"
      },
      "outputs": [],
      "source": []
    },
    {
      "cell_type": "markdown",
      "id": "c9d7d654",
      "metadata": {
        "id": "c9d7d654"
      },
      "source": [
        "----------------------------"
      ]
    },
    {
      "cell_type": "markdown",
      "id": "96f14fe3",
      "metadata": {
        "id": "96f14fe3"
      },
      "source": [
        "## [미션] :  코랩에서 파이썬 정보 확인하기"
      ]
    },
    {
      "cell_type": "markdown",
      "id": "9781cc96",
      "metadata": {
        "id": "9781cc96"
      },
      "source": [
        "### #우리가 사용하는 파이썬 버전 확인하기"
      ]
    },
    {
      "cell_type": "code",
      "execution_count": null,
      "id": "ebdbd150",
      "metadata": {
        "id": "ebdbd150"
      },
      "outputs": [],
      "source": []
    },
    {
      "cell_type": "code",
      "execution_count": 15,
      "metadata": {
        "colab": {
          "base_uri": "https://localhost:8080/"
        },
        "outputId": "0ecca23d-8b01-49b8-fdff-41336b8a87bb",
        "id": "RX05I6JGqc66"
      },
      "outputs": [
        {
          "output_type": "stream",
          "name": "stdout",
          "text": [
            "/usr/bin/python3\n",
            "3.10.6 (main, May 29 2023, 11:10:38) [GCC 11.3.0]\n"
          ]
        }
      ],
      "source": [
        "import sys\n",
        "\n",
        "print(sys.executable) # 파이썬 실행파일 위치\n",
        "\n",
        "print(sys.version)    # 파이썬 버전 출력하기"
      ],
      "id": "RX05I6JGqc66"
    },
    {
      "cell_type": "markdown",
      "id": "368431c0",
      "metadata": {
        "id": "368431c0"
      },
      "source": [
        "### #파이썬 실행파일 위치 확인하기"
      ]
    },
    {
      "cell_type": "code",
      "execution_count": null,
      "id": "60158dc2",
      "metadata": {
        "id": "60158dc2"
      },
      "outputs": [],
      "source": []
    },
    {
      "cell_type": "code",
      "execution_count": null,
      "metadata": {
        "colab": {
          "base_uri": "https://localhost:8080/"
        },
        "outputId": "579017a6-793b-4d84-c508-1cb77b33e19d",
        "id": "PdoF0DeAq50r"
      },
      "outputs": [
        {
          "output_type": "stream",
          "name": "stdout",
          "text": [
            "/content\n"
          ]
        }
      ],
      "source": [
        "import os\n",
        "\n",
        "print( os.getcwd() ) #현재 폴더 경로"
      ],
      "id": "PdoF0DeAq50r"
    },
    {
      "cell_type": "markdown",
      "id": "a446c706",
      "metadata": {
        "id": "a446c706"
      },
      "source": [
        "------------------------------------------"
      ]
    },
    {
      "cell_type": "markdown",
      "id": "416d36fc",
      "metadata": {
        "id": "416d36fc"
      },
      "source": [
        "끝"
      ]
    }
  ],
  "metadata": {
    "kernelspec": {
      "display_name": "Python 3 (ipykernel)",
      "language": "python",
      "name": "python3"
    },
    "language_info": {
      "codemirror_mode": {
        "name": "ipython",
        "version": 3
      },
      "file_extension": ".py",
      "mimetype": "text/x-python",
      "name": "python",
      "nbconvert_exporter": "python",
      "pygments_lexer": "ipython3",
      "version": "3.10.9"
    },
    "vscode": {
      "interpreter": {
        "hash": "b41e41bff03a930185ac2cbea60ce521f7c8c2f5401ceb5c30214081f77ab4f5"
      }
    },
    "colab": {
      "provenance": [],
      "include_colab_link": true
    }
  },
  "nbformat": 4,
  "nbformat_minor": 5
}